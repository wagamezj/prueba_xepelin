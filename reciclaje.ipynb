{
 "cells": [
  {
   "cell_type": "code",
   "execution_count": null,
   "id": "bb189144",
   "metadata": {},
   "outputs": [],
   "source": [
    "# Varios resumen\n",
    "fin_mounth = df.groupby('mes_id').agg({'amountfinancedByXepelin':[sum]})\n",
    "fin_mounth.columns = fin_mounth.columns.droplevel(level=1)"
   ]
  }
 ],
 "metadata": {
  "kernelspec": {
   "display_name": "PySpark3",
   "language": "",
   "name": "pyspark3kernel"
  }
 },
 "nbformat": 4,
 "nbformat_minor": 5
}
