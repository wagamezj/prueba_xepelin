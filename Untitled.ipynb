{
 "cells": [
  {
   "cell_type": "code",
   "execution_count": 6,
   "id": "a3643119",
   "metadata": {},
   "outputs": [
    {
     "name": "stdout",
     "output_type": "stream",
     "text": [
      "Collecting skforecast"
     ]
    },
    {
     "name": "stderr",
     "output_type": "stream",
     "text": [
      "ERROR: Could not install packages due to an OSError: [WinError 5] Acceso denegado: 'D:\\\\Usuarios\\\\wilmagju\\\\AppData\\\\Local\\\\Programs\\\\Python\\\\Python38\\\\Lib\\\\site-packages\\\\~andas\\\\_libs\\\\algos.cp38-win_amd64.pyd'\n",
      "Consider using the `--user` option or check the permissions.\n",
      "\n",
      "WARNING: You are using pip version 21.0.1; however, version 22.2 is available.\n",
      "You should consider upgrading via the 'd:\\usuarios\\wilmagju\\appdata\\local\\programs\\python\\python38\\python.exe -m pip install --upgrade pip' command.\n"
     ]
    },
    {
     "name": "stdout",
     "output_type": "stream",
     "text": [
      "\n",
      "  Using cached skforecast-0.4.3-py2.py3-none-any.whl (87 kB)\n",
      "Requirement already satisfied: numpy<=1.22,>=1.20 in d:\\usuarios\\wilmagju\\appdata\\local\\programs\\python\\python38\\lib\\site-packages (from skforecast) (1.22.0)\n",
      "Collecting tqdm<=4.62,>=4.57.0\n",
      "  Using cached tqdm-4.62.0-py2.py3-none-any.whl (76 kB)\n",
      "Requirement already satisfied: statsmodels<=0.13,>=0.12 in d:\\usuarios\\wilmagju\\appdata\\local\\programs\\python\\python38\\lib\\site-packages (from skforecast) (0.12.2)\n",
      "Collecting pandas<=1.4,>=1.2\n",
      "  Using cached pandas-1.4.0-cp38-cp38-win_amd64.whl (10.6 MB)\n",
      "Collecting scikit-learn>=1.0\n",
      "  Using cached scikit_learn-1.1.1-cp38-cp38-win_amd64.whl (7.3 MB)\n",
      "Requirement already satisfied: pytz>=2020.1 in d:\\usuarios\\wilmagju\\appdata\\local\\programs\\python\\python38\\lib\\site-packages (from pandas<=1.4,>=1.2->skforecast) (2020.1)\n",
      "Requirement already satisfied: python-dateutil>=2.8.1 in d:\\usuarios\\wilmagju\\appdata\\local\\programs\\python\\python38\\lib\\site-packages (from pandas<=1.4,>=1.2->skforecast) (2.8.1)\n",
      "Requirement already satisfied: six>=1.5 in d:\\usuarios\\wilmagju\\appdata\\local\\programs\\python\\python38\\lib\\site-packages (from python-dateutil>=2.8.1->pandas<=1.4,>=1.2->skforecast) (1.15.0)\n",
      "Requirement already satisfied: scipy>=1.3.2 in d:\\usuarios\\wilmagju\\appdata\\local\\programs\\python\\python38\\lib\\site-packages (from scikit-learn>=1.0->skforecast) (1.7.0)\n",
      "Requirement already satisfied: threadpoolctl>=2.0.0 in d:\\usuarios\\wilmagju\\appdata\\local\\programs\\python\\python38\\lib\\site-packages (from scikit-learn>=1.0->skforecast) (2.2.0)\n",
      "Requirement already satisfied: joblib>=1.0.0 in d:\\usuarios\\wilmagju\\appdata\\local\\programs\\python\\python38\\lib\\site-packages (from scikit-learn>=1.0->skforecast) (1.0.1)\n",
      "Requirement already satisfied: patsy>=0.5 in d:\\usuarios\\wilmagju\\appdata\\local\\programs\\python\\python38\\lib\\site-packages (from statsmodels<=0.13,>=0.12->skforecast) (0.5.1)\n",
      "Requirement already satisfied: colorama in d:\\usuarios\\wilmagju\\appdata\\roaming\\python\\python38\\site-packages (from tqdm<=4.62,>=4.57.0->skforecast) (0.4.3)\n",
      "Installing collected packages: pandas, tqdm, scikit-learn, skforecast\n",
      "  Attempting uninstall: pandas\n",
      "    Found existing installation: pandas 1.0.5\n",
      "    Uninstalling pandas-1.0.5:\n",
      "      Successfully uninstalled pandas-1.0.5\n"
     ]
    }
   ],
   "source": [
    "!pip install skforecast"
   ]
  },
  {
   "cell_type": "code",
   "execution_count": 7,
   "id": "10a0ef9b",
   "metadata": {},
   "outputs": [
    {
     "ename": "ModuleNotFoundError",
     "evalue": "No module named 'skforecast'",
     "output_type": "error",
     "traceback": [
      "\u001b[1;31m---------------------------------------------------------------------------\u001b[0m",
      "\u001b[1;31mModuleNotFoundError\u001b[0m                       Traceback (most recent call last)",
      "\u001b[1;32m<ipython-input-7-1db68a361660>\u001b[0m in \u001b[0;36m<module>\u001b[1;34m\u001b[0m\n\u001b[0;32m     18\u001b[0m \u001b[1;32mfrom\u001b[0m \u001b[0msklearn\u001b[0m\u001b[1;33m.\u001b[0m\u001b[0mpipeline\u001b[0m \u001b[1;32mimport\u001b[0m \u001b[0mmake_pipeline\u001b[0m\u001b[1;33m\u001b[0m\u001b[1;33m\u001b[0m\u001b[0m\n\u001b[0;32m     19\u001b[0m \u001b[1;33m\u001b[0m\u001b[0m\n\u001b[1;32m---> 20\u001b[1;33m \u001b[1;32mfrom\u001b[0m \u001b[0mskforecast\u001b[0m\u001b[1;33m.\u001b[0m\u001b[0mForecasterAutoreg\u001b[0m \u001b[1;32mimport\u001b[0m \u001b[0mForecasterAutoreg\u001b[0m\u001b[1;33m\u001b[0m\u001b[1;33m\u001b[0m\u001b[0m\n\u001b[0m\u001b[0;32m     21\u001b[0m \u001b[1;32mfrom\u001b[0m \u001b[0mskforecast\u001b[0m\u001b[1;33m.\u001b[0m\u001b[0mForecasterAutoregCustom\u001b[0m \u001b[1;32mimport\u001b[0m \u001b[0mForecasterAutoregCustom\u001b[0m\u001b[1;33m\u001b[0m\u001b[1;33m\u001b[0m\u001b[0m\n\u001b[0;32m     22\u001b[0m \u001b[1;32mfrom\u001b[0m \u001b[0mskforecast\u001b[0m\u001b[1;33m.\u001b[0m\u001b[0mForecasterAutoregMultiOutput\u001b[0m \u001b[1;32mimport\u001b[0m \u001b[0mForecasterAutoregMultiOutput\u001b[0m\u001b[1;33m\u001b[0m\u001b[1;33m\u001b[0m\u001b[0m\n",
      "\u001b[1;31mModuleNotFoundError\u001b[0m: No module named 'skforecast'"
     ]
    }
   ],
   "source": [
    "import numpy as np\n",
    "import pandas as pd\n",
    "\n",
    "# Gráficos\n",
    "# ==============================================================================\n",
    "import matplotlib.pyplot as plt\n",
    "plt.style.use('fivethirtyeight')\n",
    "plt.rcParams['lines.linewidth'] = 1.5\n",
    "%matplotlib inline\n",
    "\n",
    "# Modelado y Forecasting\n",
    "# ==============================================================================\n",
    "from sklearn.linear_model import LinearRegression\n",
    "from sklearn.linear_model import Lasso\n",
    "from sklearn.ensemble import RandomForestRegressor\n",
    "from sklearn.metrics import mean_squared_error\n",
    "from sklearn.preprocessing import StandardScaler\n",
    "from sklearn.pipeline import make_pipeline\n",
    "\n",
    "from skforecast.ForecasterAutoreg import ForecasterAutoreg\n",
    "from skforecast.ForecasterAutoregCustom import ForecasterAutoregCustom\n",
    "from skforecast.ForecasterAutoregMultiOutput import ForecasterAutoregMultiOutput\n",
    "from skforecast.model_selection import grid_search_forecaster\n",
    "from skforecast.model_selection import backtesting_forecaster\n",
    "\n",
    "from joblib import dump, load\n",
    "\n",
    "# Configuración warnings\n",
    "# ==============================================================================\n",
    "import warnings"
   ]
  },
  {
   "cell_type": "code",
   "execution_count": 9,
   "id": "a933a374",
   "metadata": {},
   "outputs": [],
   "source": [
    "df = pd.read_csv('data_test (1).csv', sep = ';')\n",
    "df = df[df.status == 'PAID']\n",
    "#df['paidAt'] = df['paidAt'].str.replace(\"2021\",'21')\n",
    "df['paidAt'] =  pd.to_datetime(df['paidAt'])\n",
    "#df['med_ID'] = df['paidAt'].dt.to_period('M')\n",
    "df['mes_id'] =  df['paidAt'].dt.strftime('%Y-%m')\n",
    "df['finan'] = df.amountfinancedByXepelin/df.amount"
   ]
  }
 ],
 "metadata": {
  "kernelspec": {
   "display_name": "Python 3",
   "language": "python",
   "name": "python3"
  },
  "language_info": {
   "codemirror_mode": {
    "name": "ipython",
    "version": 3
   },
   "file_extension": ".py",
   "mimetype": "text/x-python",
   "name": "python",
   "nbconvert_exporter": "python",
   "pygments_lexer": "ipython3",
   "version": "3.8.2"
  }
 },
 "nbformat": 4,
 "nbformat_minor": 5
}
